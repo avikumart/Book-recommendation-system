{
 "cells": [
  {
   "cell_type": "code",
   "execution_count": 1,
   "id": "8f191366",
   "metadata": {},
   "outputs": [],
   "source": [
    "import pandas as pd\n",
    "import numpy as np\n",
    "import matplotlib.pyplot as plt\n",
    "import seaborn as sns"
   ]
  },
  {
   "cell_type": "code",
   "execution_count": 3,
   "id": "58f16b8c",
   "metadata": {},
   "outputs": [],
   "source": [
    "from sklearn.model_selection import train_test_split\n",
    "from sklearn.metrics import mean_squared_error\n",
    "from scipy.sparse import csr_matrix\n",
    "from sklearn.metrics.pairwise import cosine_similarity\n",
    "from scipy.sparse.linalg import svds\n",
    "from scipy.stats import pearsonr    \n",
    "import warnings\n",
    "warnings.filterwarnings(\"ignore\")\n",
    "# --- IGNORE --\n",
    "pd.set_option('display.max_columns', None)\n",
    "pd.set_option('display.max_rows', None)"
   ]
  },
  {
   "cell_type": "markdown",
   "id": "78daf5df",
   "metadata": {},
   "source": [
    "**Recsys diagram**\n",
    "\n",
    "![image](/Users/avikumart/Documents/GitHub/Book-recommendation-system/data/classicRec.png)"
   ]
  },
  {
   "cell_type": "code",
   "execution_count": 9,
   "id": "24c22cbe",
   "metadata": {},
   "outputs": [],
   "source": [
    "# read the dataframe of the books\n",
    "books = pd.read_csv('/Users/avikumart/Documents/GitHub/Book-recommendation-system/data/Books.csv', index_col=False, encoding='latin-1')"
   ]
  },
  {
   "cell_type": "code",
   "execution_count": 10,
   "id": "32abe2cc",
   "metadata": {},
   "outputs": [
    {
     "data": {
      "application/vnd.microsoft.datawrangler.viewer.v0+json": {
       "columns": [
        {
         "name": "index",
         "rawType": "int64",
         "type": "integer"
        },
        {
         "name": "ISBN",
         "rawType": "object",
         "type": "string"
        },
        {
         "name": "Book-Title",
         "rawType": "object",
         "type": "string"
        },
        {
         "name": "Book-Author",
         "rawType": "object",
         "type": "string"
        },
        {
         "name": "Year-Of-Publication",
         "rawType": "object",
         "type": "unknown"
        },
        {
         "name": "Publisher",
         "rawType": "object",
         "type": "string"
        },
        {
         "name": "Image-URL-S",
         "rawType": "object",
         "type": "string"
        },
        {
         "name": "Image-URL-M",
         "rawType": "object",
         "type": "string"
        },
        {
         "name": "Image-URL-L",
         "rawType": "object",
         "type": "string"
        }
       ],
       "ref": "16d10b53-eecf-4e57-a6ed-7816bd8564d2",
       "rows": [
        [
         "0",
         "0195153448",
         "Classical Mythology",
         "Mark P. O. Morford",
         "2002",
         "Oxford University Press",
         "http://images.amazon.com/images/P/0195153448.01.THUMBZZZ.jpg",
         "http://images.amazon.com/images/P/0195153448.01.MZZZZZZZ.jpg",
         "http://images.amazon.com/images/P/0195153448.01.LZZZZZZZ.jpg"
        ],
        [
         "1",
         "0002005018",
         "Clara Callan",
         "Richard Bruce Wright",
         "2001",
         "HarperFlamingo Canada",
         "http://images.amazon.com/images/P/0002005018.01.THUMBZZZ.jpg",
         "http://images.amazon.com/images/P/0002005018.01.MZZZZZZZ.jpg",
         "http://images.amazon.com/images/P/0002005018.01.LZZZZZZZ.jpg"
        ],
        [
         "2",
         "0060973129",
         "Decision in Normandy",
         "Carlo D'Este",
         "1991",
         "HarperPerennial",
         "http://images.amazon.com/images/P/0060973129.01.THUMBZZZ.jpg",
         "http://images.amazon.com/images/P/0060973129.01.MZZZZZZZ.jpg",
         "http://images.amazon.com/images/P/0060973129.01.LZZZZZZZ.jpg"
        ],
        [
         "3",
         "0374157065",
         "Flu: The Story of the Great Influenza Pandemic of 1918 and the Search for the Virus That Caused It",
         "Gina Bari Kolata",
         "1999",
         "Farrar Straus Giroux",
         "http://images.amazon.com/images/P/0374157065.01.THUMBZZZ.jpg",
         "http://images.amazon.com/images/P/0374157065.01.MZZZZZZZ.jpg",
         "http://images.amazon.com/images/P/0374157065.01.LZZZZZZZ.jpg"
        ],
        [
         "4",
         "0393045218",
         "The Mummies of Urumchi",
         "E. J. W. Barber",
         "1999",
         "W. W. Norton &amp; Company",
         "http://images.amazon.com/images/P/0393045218.01.THUMBZZZ.jpg",
         "http://images.amazon.com/images/P/0393045218.01.MZZZZZZZ.jpg",
         "http://images.amazon.com/images/P/0393045218.01.LZZZZZZZ.jpg"
        ]
       ],
       "shape": {
        "columns": 8,
        "rows": 5
       }
      },
      "text/html": [
       "<div>\n",
       "<style scoped>\n",
       "    .dataframe tbody tr th:only-of-type {\n",
       "        vertical-align: middle;\n",
       "    }\n",
       "\n",
       "    .dataframe tbody tr th {\n",
       "        vertical-align: top;\n",
       "    }\n",
       "\n",
       "    .dataframe thead th {\n",
       "        text-align: right;\n",
       "    }\n",
       "</style>\n",
       "<table border=\"1\" class=\"dataframe\">\n",
       "  <thead>\n",
       "    <tr style=\"text-align: right;\">\n",
       "      <th></th>\n",
       "      <th>ISBN</th>\n",
       "      <th>Book-Title</th>\n",
       "      <th>Book-Author</th>\n",
       "      <th>Year-Of-Publication</th>\n",
       "      <th>Publisher</th>\n",
       "      <th>Image-URL-S</th>\n",
       "      <th>Image-URL-M</th>\n",
       "      <th>Image-URL-L</th>\n",
       "    </tr>\n",
       "  </thead>\n",
       "  <tbody>\n",
       "    <tr>\n",
       "      <th>0</th>\n",
       "      <td>0195153448</td>\n",
       "      <td>Classical Mythology</td>\n",
       "      <td>Mark P. O. Morford</td>\n",
       "      <td>2002</td>\n",
       "      <td>Oxford University Press</td>\n",
       "      <td>http://images.amazon.com/images/P/0195153448.0...</td>\n",
       "      <td>http://images.amazon.com/images/P/0195153448.0...</td>\n",
       "      <td>http://images.amazon.com/images/P/0195153448.0...</td>\n",
       "    </tr>\n",
       "    <tr>\n",
       "      <th>1</th>\n",
       "      <td>0002005018</td>\n",
       "      <td>Clara Callan</td>\n",
       "      <td>Richard Bruce Wright</td>\n",
       "      <td>2001</td>\n",
       "      <td>HarperFlamingo Canada</td>\n",
       "      <td>http://images.amazon.com/images/P/0002005018.0...</td>\n",
       "      <td>http://images.amazon.com/images/P/0002005018.0...</td>\n",
       "      <td>http://images.amazon.com/images/P/0002005018.0...</td>\n",
       "    </tr>\n",
       "    <tr>\n",
       "      <th>2</th>\n",
       "      <td>0060973129</td>\n",
       "      <td>Decision in Normandy</td>\n",
       "      <td>Carlo D'Este</td>\n",
       "      <td>1991</td>\n",
       "      <td>HarperPerennial</td>\n",
       "      <td>http://images.amazon.com/images/P/0060973129.0...</td>\n",
       "      <td>http://images.amazon.com/images/P/0060973129.0...</td>\n",
       "      <td>http://images.amazon.com/images/P/0060973129.0...</td>\n",
       "    </tr>\n",
       "    <tr>\n",
       "      <th>3</th>\n",
       "      <td>0374157065</td>\n",
       "      <td>Flu: The Story of the Great Influenza Pandemic...</td>\n",
       "      <td>Gina Bari Kolata</td>\n",
       "      <td>1999</td>\n",
       "      <td>Farrar Straus Giroux</td>\n",
       "      <td>http://images.amazon.com/images/P/0374157065.0...</td>\n",
       "      <td>http://images.amazon.com/images/P/0374157065.0...</td>\n",
       "      <td>http://images.amazon.com/images/P/0374157065.0...</td>\n",
       "    </tr>\n",
       "    <tr>\n",
       "      <th>4</th>\n",
       "      <td>0393045218</td>\n",
       "      <td>The Mummies of Urumchi</td>\n",
       "      <td>E. J. W. Barber</td>\n",
       "      <td>1999</td>\n",
       "      <td>W. W. Norton &amp;amp; Company</td>\n",
       "      <td>http://images.amazon.com/images/P/0393045218.0...</td>\n",
       "      <td>http://images.amazon.com/images/P/0393045218.0...</td>\n",
       "      <td>http://images.amazon.com/images/P/0393045218.0...</td>\n",
       "    </tr>\n",
       "  </tbody>\n",
       "</table>\n",
       "</div>"
      ],
      "text/plain": [
       "         ISBN                                         Book-Title  \\\n",
       "0  0195153448                                Classical Mythology   \n",
       "1  0002005018                                       Clara Callan   \n",
       "2  0060973129                               Decision in Normandy   \n",
       "3  0374157065  Flu: The Story of the Great Influenza Pandemic...   \n",
       "4  0393045218                             The Mummies of Urumchi   \n",
       "\n",
       "            Book-Author Year-Of-Publication                   Publisher  \\\n",
       "0    Mark P. O. Morford                2002     Oxford University Press   \n",
       "1  Richard Bruce Wright                2001       HarperFlamingo Canada   \n",
       "2          Carlo D'Este                1991             HarperPerennial   \n",
       "3      Gina Bari Kolata                1999        Farrar Straus Giroux   \n",
       "4       E. J. W. Barber                1999  W. W. Norton &amp; Company   \n",
       "\n",
       "                                         Image-URL-S  \\\n",
       "0  http://images.amazon.com/images/P/0195153448.0...   \n",
       "1  http://images.amazon.com/images/P/0002005018.0...   \n",
       "2  http://images.amazon.com/images/P/0060973129.0...   \n",
       "3  http://images.amazon.com/images/P/0374157065.0...   \n",
       "4  http://images.amazon.com/images/P/0393045218.0...   \n",
       "\n",
       "                                         Image-URL-M  \\\n",
       "0  http://images.amazon.com/images/P/0195153448.0...   \n",
       "1  http://images.amazon.com/images/P/0002005018.0...   \n",
       "2  http://images.amazon.com/images/P/0060973129.0...   \n",
       "3  http://images.amazon.com/images/P/0374157065.0...   \n",
       "4  http://images.amazon.com/images/P/0393045218.0...   \n",
       "\n",
       "                                         Image-URL-L  \n",
       "0  http://images.amazon.com/images/P/0195153448.0...  \n",
       "1  http://images.amazon.com/images/P/0002005018.0...  \n",
       "2  http://images.amazon.com/images/P/0060973129.0...  \n",
       "3  http://images.amazon.com/images/P/0374157065.0...  \n",
       "4  http://images.amazon.com/images/P/0393045218.0...  "
      ]
     },
     "execution_count": 10,
     "metadata": {},
     "output_type": "execute_result"
    }
   ],
   "source": [
    "books.head()"
   ]
  },
  {
   "cell_type": "code",
   "execution_count": null,
   "id": "1a8cceef",
   "metadata": {},
   "outputs": [],
   "source": []
  }
 ],
 "metadata": {
  "kernelspec": {
   "display_name": "boonv",
   "language": "python",
   "name": "python3"
  },
  "language_info": {
   "codemirror_mode": {
    "name": "ipython",
    "version": 3
   },
   "file_extension": ".py",
   "mimetype": "text/x-python",
   "name": "python",
   "nbconvert_exporter": "python",
   "pygments_lexer": "ipython3",
   "version": "3.13.5"
  }
 },
 "nbformat": 4,
 "nbformat_minor": 5
}
