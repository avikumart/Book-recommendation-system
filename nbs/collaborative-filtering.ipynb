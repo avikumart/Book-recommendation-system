{
 "cells": [
  {
   "cell_type": "code",
   "execution_count": null,
   "id": "8f191366",
   "metadata": {},
   "outputs": [],
   "source": [
    "import pandas as pd\n",
    "import numpy as np\n",
    "import matplotlib.pyplot as plt\n",
    "import seaborn as sns\n",
    "import re"
   ]
  },
  {
   "cell_type": "code",
   "execution_count": null,
   "id": "58f16b8c",
   "metadata": {},
   "outputs": [],
   "source": [
    "from sklearn.model_selection import train_test_split\n",
    "from sklearn.metrics import mean_squared_error\n",
    "from scipy.sparse import csr_matrix\n",
    "from sklearn.metrics.pairwise import cosine_similarity\n",
    "from scipy.sparse.linalg import svds\n",
    "from scipy.stats import pearsonr    \n",
    "import warnings\n",
    "warnings.filterwarnings(\"ignore\")\n",
    "# --- IGNORE --\n",
    "pd.set_option('display.max_columns', None)\n",
    "pd.set_option('display.max_rows', None)"
   ]
  },
  {
   "cell_type": "markdown",
   "id": "78daf5df",
   "metadata": {},
   "source": [
    "**Recsys diagram**\n",
    "\n",
    "![image](/Users/avikumart/Documents/GitHub/Book-recommendation-system/data/classicRec.png)"
   ]
  },
  {
   "cell_type": "code",
   "execution_count": null,
   "id": "24c22cbe",
   "metadata": {},
   "outputs": [],
   "source": [
    "# read the dataframe of the books\n",
    "books = pd.read_csv('/Users/avikumart/Documents/GitHub/Book-recommendation-system/data/Books.csv', index_col=False, encoding='latin-1')"
   ]
  },
  {
   "cell_type": "code",
   "execution_count": null,
   "id": "32abe2cc",
   "metadata": {},
   "outputs": [],
   "source": [
    "books.head()"
   ]
  },
  {
   "cell_type": "code",
   "execution_count": null,
   "id": "1a8cceef",
   "metadata": {},
   "outputs": [],
   "source": [
    "# get the meta data\n",
    "books.info()"
   ]
  },
  {
   "cell_type": "code",
   "execution_count": null,
   "id": "f3a8b096",
   "metadata": {},
   "outputs": [],
   "source": [
    "# load the ratings data\n",
    "ratings = pd.read_csv('/Users/avikumart/Documents/GitHub/Book-recommendation-system/data/Ratings.csv', index_col=False, encoding='latin-1')"
   ]
  },
  {
   "cell_type": "code",
   "execution_count": null,
   "id": "a0534a84",
   "metadata": {},
   "outputs": [],
   "source": [
    "ratings.head()"
   ]
  },
  {
   "cell_type": "code",
   "execution_count": null,
   "id": "5ec5d750",
   "metadata": {},
   "outputs": [],
   "source": [
    "ratings.info()"
   ]
  },
  {
   "cell_type": "code",
   "execution_count": null,
   "id": "437659e1",
   "metadata": {},
   "outputs": [],
   "source": [
    "# clean the data and merge book and ratings data on ISBN\n",
    "books = books.dropna(inplace=False)\n",
    "books"
   ]
  },
  {
   "cell_type": "code",
   "execution_count": null,
   "id": "05638c4f",
   "metadata": {},
   "outputs": [],
   "source": [
    "# drop the un unnecessary columns\n",
    "books = books.drop(columns=['Image-URL-S', 'Image-URL-M', 'Image-URL-L', 'Year-Of-Publication'], axis=1)\n",
    "books.head()"
   ]
  },
  {
   "cell_type": "code",
   "execution_count": null,
   "id": "1cd2041b",
   "metadata": {},
   "outputs": [],
   "source": [
    "# apply regex of non-alphanumeric characters to clean the data\n",
    "books['Book-Title'] = books['Book-Title'].apply(lambda x: re.sub(\"[\\W_]+\", \" \", x).strip())\n",
    "# merge the dataframes\n",
    "book_ratings = pd.merge(books, ratings, on='ISBN')\n",
    "book_ratings.head()"
   ]
  },
  {
   "cell_type": "code",
   "execution_count": null,
   "id": "83601e80",
   "metadata": {},
   "outputs": [],
   "source": [
    "# check the meta data of merged dataframe\n",
    "book_ratings.info()"
   ]
  },
  {
   "cell_type": "code",
   "execution_count": null,
   "id": "2126430f",
   "metadata": {},
   "outputs": [],
   "source": [
    "# rename the columns for better understanding\n",
    "book_ratings = book_ratings.rename(columns={'User-ID': 'user_id', 'Book-Rating': 'book_rating', 'Book-Title': 'book_title', 'Book-Author': 'book_author', 'Publisher': 'publisher', 'ISBN': 'isbn'})\n",
    "book_ratings.shape"
   ]
  },
  {
   "cell_type": "code",
   "execution_count": null,
   "id": "f961c144",
   "metadata": {},
   "outputs": [],
   "source": [
    "# remove the less rated books and users\n",
    "data = book_ratings[\"isbn\"].value_counts()"
   ]
  },
  {
   "cell_type": "code",
   "execution_count": null,
   "id": "b7b6b685",
   "metadata": {},
   "outputs": [],
   "source": [
    "# remove lower rated books\n",
    "ratings_threshold = 1\n",
    "book_ratings = book_ratings[book_ratings['isbn'].isin(data[data > ratings_threshold].index)]\n",
    "# remove lower rated users\n",
    "book_ratings.shape"
   ]
  },
  {
   "cell_type": "code",
   "execution_count": null,
   "id": "2a342c8f",
   "metadata": {},
   "outputs": [],
   "source": [
    "# show the top 5 rows\n",
    "book_ratings.head()"
   ]
  },
  {
   "cell_type": "code",
   "execution_count": null,
   "id": "ecb3182b",
   "metadata": {},
   "outputs": [],
   "source": [
    "# total unique users and books\n",
    "n_users = book_ratings.user_id.nunique()\n",
    "n_books = book_ratings.isbn.nunique()\n",
    "print(f'Total unique users: {n_users}')\n",
    "print(f'Total unique books: {n_books}')\n",
    "\n",
    "# top 10 books with highest ratings\n",
    "top_books = book_ratings.groupby('book_title')['book_rating'].count().sort_values(ascending=False).head(10)\n",
    "top_books.plot(kind='barh', figsize=(10,6), color='skyblue')\n",
    "plt.xlabel('Number of Ratings')\n",
    "plt.title('Top 10 Books with Highest Ratings')\n",
    "plt.show()\n"
   ]
  },
  {
   "cell_type": "code",
   "execution_count": null,
   "id": "76bcbb51",
   "metadata": {},
   "outputs": [],
   "source": [
    "# check the data sparsity\n",
    "sparsity = 1.0 - (len(book_ratings) / (n_users * n_books))\n",
    "print(f'Data Sparsity: {sparsity:.4f}')"
   ]
  },
  {
   "cell_type": "code",
   "execution_count": null,
   "id": "1290f954",
   "metadata": {},
   "outputs": [],
   "source": [
    "# check total book authrs and publishers\n",
    "n_authors = book_ratings.book_author.nunique()\n",
    "n_publishers = book_ratings.publisher.nunique()\n",
    "print(f'Total unique authors: {n_authors}')\n",
    "print(f'Total unique publishers: {n_publishers}')"
   ]
  },
  {
   "cell_type": "code",
   "execution_count": null,
   "id": "6a2b1057",
   "metadata": {},
   "outputs": [],
   "source": [
    "# save the book ratings dataframe\n",
    "book_ratings.to_csv('/Users/avikumart/Documents/GitHub/Book-recommendation-system/data/book_ratings.csv', index=False)"
   ]
  },
  {
   "cell_type": "code",
   "execution_count": null,
   "id": "524bfccd",
   "metadata": {},
   "outputs": [],
   "source": [
    "# remove the book author and publisher columns for collaborative filtering\n",
    "book_ratings = book_ratings.drop(columns=['book_author', 'publisher'], axis=1)\n",
    "book_ratings.head()"
   ]
  },
  {
   "cell_type": "code",
   "execution_count": null,
   "id": "a9f24c71",
   "metadata": {},
   "outputs": [],
   "source": [
    "# save the cleaned book ratings dataframe\n",
    "book_ratings.to_csv('/Users/avikumart/Documents/GitHub/Book-recommendation-system/data/cleaned_book_ratings.csv', index=False)"
   ]
  }
 ],
 "metadata": {
  "kernelspec": {
   "display_name": "boonv",
   "language": "python",
   "name": "python3"
  },
  "language_info": {
   "codemirror_mode": {
    "name": "ipython",
    "version": 3
   },
   "file_extension": ".py",
   "mimetype": "text/x-python",
   "name": "python",
   "nbconvert_exporter": "python",
   "pygments_lexer": "ipython3",
   "version": "3.13.5"
  }
 },
 "nbformat": 4,
 "nbformat_minor": 5
}
